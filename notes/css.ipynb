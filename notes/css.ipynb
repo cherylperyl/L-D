{
 "cells": [
  {
   "cell_type": "markdown",
   "metadata": {},
   "source": [
    "# https://www.youtube.com/watch?v=1PnVor36_40&ab_channel=WebDevSimplified"
   ]
  },
  {
   "cell_type": "markdown",
   "metadata": {},
   "source": [
    "css is a styling language"
   ]
  },
  {
   "cell_type": "markdown",
   "metadata": {},
   "source": [
    "### Basics"
   ]
  },
  {
   "cell_type": "markdown",
   "metadata": {},
   "source": [
    "Syntax\n",
    "\n",
    "```\n",
    "selector {\n",
    "    property1: value;\n",
    "    property2: value;\n",
    "}\n",
    "```"
   ]
  },
  {
   "cell_type": "markdown",
   "metadata": {},
   "source": [
    "Types of selector:\n",
    "1. Element (eg. header, footer, class, h1, div, header, footer, span, strong, a, button) -> lowest level, always over-written by other selectors\n",
    "2. Class (let you assign a style based on the class attribute)\n",
    "3. ID -> highest level"
   ]
  },
  {
   "cell_type": "markdown",
   "metadata": {},
   "source": [
    "Class Example\n",
    "```\n",
    "<h1 class='big-header'>\n",
    "    Title\n",
    "</h1>\n",
    "```\n",
    "\n",
    "class is an attribute that all html tags can have\n",
    "\n",
    "you can put multiple classes in the class attribute, just separate by space\n",
    "\n",
    "```\n",
    "class='red square'\n",
    "```"
   ]
  },
  {
   "cell_type": "markdown",
   "metadata": {},
   "source": [
    "when making a class style, we need to add a period at the front of the class-name as the css selector\n",
    "\n",
    "```\n",
    ".class-name {\n",
    "    property: value;\n",
    "}\n",
    "```"
   ]
  },
  {
   "cell_type": "markdown",
   "metadata": {},
   "source": [
    "id vs class  \n",
    "an element only can have ONE ID, but can have multiple classes\n",
    "an id should be unique across an entire webpage"
   ]
  },
  {
   "cell_type": "markdown",
   "metadata": {},
   "source": [
    "creating an ID selector\n",
    "\n",
    "```\n",
    "#id {\n",
    "    property: value;\n",
    "}\n",
    "```"
   ]
  },
  {
   "cell_type": "markdown",
   "metadata": {},
   "source": [
    "### CSS Selector Combinations"
   ]
  },
  {
   "cell_type": "markdown",
   "metadata": {},
   "source": [
    "```\n",
    ".selector-1.selector-2 {\n",
    "    property: value;\n",
    "}\n",
    "```\n",
    "\n",
    "Examples:\n",
    "\n",
    "```\n",
    "<h1 class='large-heading'>\n",
    "    Title\n",
    "</h1>\n",
    "\n",
    ".h1.large-header {\n",
    "    font-size: 200%\n",
    "}\n",
    "```"
   ]
  },
  {
   "cell_type": "markdown",
   "metadata": {},
   "source": [
    "another way: note there is a space between the 2 selectors\n",
    "```\n",
    ".ancestor .child{\n",
    "    property: value;\n",
    "}\n",
    "```\n",
    "\n",
    "if child is ```p``` and ancestor is ```div``` then all p tags with div as the ancestor will be selected"
   ]
  },
  {
   "cell_type": "markdown",
   "metadata": {},
   "source": [
    "can combine both of these (space method and non-space method)"
   ]
  },
  {
   "cell_type": "markdown",
   "metadata": {},
   "source": [
    "combine selectors with the same properties -> add a comma\n",
    "\n",
    "eg.\n",
    "\n",
    "before:\n",
    "\n",
    "```\n",
    ".big {\n",
    "    font-size: 200%\n",
    "}\n",
    "\n",
    ".large {\n",
    "    font-size: 200%\n",
    "}\n",
    "```\n",
    "\n",
    "after:\n",
    "```\n",
    ".big, .large {\n",
    "    font-size: 200%\n",
    "}\n",
    "```"
   ]
  },
  {
   "cell_type": "markdown",
   "metadata": {},
   "source": [
    "### The everything selector\n",
    "for defaults for the entire webpage"
   ]
  },
  {
   "cell_type": "markdown",
   "metadata": {},
   "source": [
    "```\n",
    "* {\n",
    "    font-family: Arial\n",
    "}"
   ]
  },
  {
   "cell_type": "markdown",
   "metadata": {},
   "source": [
    "### How to load css into your html"
   ]
  },
  {
   "cell_type": "markdown",
   "metadata": {},
   "source": [
    "1. Inline (terrible) -> html is meant for content! -> separate so u can reuse the style sheets\n",
    "2. style element (still terrible) -> <style></style>\n",
    "3. link to external css!"
   ]
  },
  {
   "cell_type": "markdown",
   "metadata": {},
   "source": [
    "example:\n",
    "\n",
    "```\n",
    "<link rel=\"stylesheet\" href=\"style.css\"/>\n",
    "```"
   ]
  },
  {
   "cell_type": "markdown",
   "metadata": {},
   "source": []
  }
 ],
 "metadata": {
  "language_info": {
   "name": "python"
  },
  "orig_nbformat": 4
 },
 "nbformat": 4,
 "nbformat_minor": 2
}
