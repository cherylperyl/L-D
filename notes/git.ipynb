{
 "cells": [
  {
   "cell_type": "markdown",
   "metadata": {},
   "source": [
    "# Git Notes"
   ]
  },
  {
   "cell_type": "markdown",
   "metadata": {},
   "source": [
    "**Important Concepts:**\n",
    "\n",
    "Each branch got a different version of code\n",
    "\n",
    "Pull request to commit changes from a branch to the main branch\n",
    "\n",
    "Rebase -> to add changes from the main branch (what other people added) to your code\n",
    "\n",
    "Main -> single source of truth -> don’t ever let your main break! -> make Sure have no bugs"
   ]
  },
  {
   "cell_type": "markdown",
   "metadata": {},
   "source": [
    "### Force Pull\n",
    "When you don't care about the uncommitted local changes"
   ]
  },
  {
   "cell_type": "markdown",
   "metadata": {},
   "source": [
    "git fetch\n",
    "git reset --hard HEAD\n",
    "git merge origin/$CURRENT_BRANCH"
   ]
  }
 ],
 "metadata": {
  "interpreter": {
   "hash": "1b21b9a1d1575fbda58f61220820976371b72f7985249680259f99f2cdf8f682"
  },
  "kernelspec": {
   "display_name": "Python 3.8.3 ('base')",
   "language": "python",
   "name": "python3"
  },
  "language_info": {
   "codemirror_mode": {
    "name": "ipython",
    "version": 3
   },
   "file_extension": ".py",
   "mimetype": "text/x-python",
   "name": "python",
   "nbconvert_exporter": "python",
   "pygments_lexer": "ipython3",
   "version": "3.8.3"
  },
  "orig_nbformat": 4
 },
 "nbformat": 4,
 "nbformat_minor": 2
}
