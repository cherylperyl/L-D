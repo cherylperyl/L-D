{
 "cells": [
  {
   "cell_type": "markdown",
   "metadata": {},
   "source": [
    "# HTML Best Practices"
   ]
  },
  {
   "cell_type": "markdown",
   "metadata": {},
   "source": [
    "<ol>\n",
    "<li>Proper document structure</li>\n",
    "<li>Declare doctype</li>\n",
    "<li>Close tags</li>\n",
    "<li>Dont use inline styles -> use external style sheet</li>\n",
    "<li>Use alt attribute with images</li>\n",
    "<li>Validate frequently -> devops principles lol</li>\n",
    "<li>place external style sheets within &lt;head&gt; tag</li>\n",
    "<li>Use Meaningful tags -> <a href=\"https://learn-the-web.algonquindesign.ca/topics/html-semantics-checklist/\">semantics</a></li>\n",
    "<li>keep tag names in lowercase</li>\n",
    "<li>reduce the number of elements on the page</li>"
   ]
  }
 ],
 "metadata": {
  "language_info": {
   "name": "python"
  },
  "orig_nbformat": 4
 },
 "nbformat": 4,
 "nbformat_minor": 2
}
